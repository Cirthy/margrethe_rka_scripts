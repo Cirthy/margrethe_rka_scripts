{
 "cells": [
  {
   "cell_type": "code",
   "execution_count": 4,
   "id": "70f10c9d",
   "metadata": {},
   "outputs": [],
   "source": [
    "from math import comb, log"
   ]
  },
  {
   "cell_type": "code",
   "execution_count": 6,
   "id": "c1bdb1e6",
   "metadata": {},
   "outputs": [
    {
     "name": "stdout",
     "output_type": "stream",
     "text": [
      "===FAA===\n",
      "140\n",
      "136\n",
      "131\n",
      "===AA ===\n",
      "287\n",
      "283\n",
      "278\n"
     ]
    }
   ],
   "source": [
    "def fast_algebraic_attack_complexity(ai, key_size):\n",
    "    e = key_size + comb(key_size, 2)\n",
    "    d = sum([comb(key_size, i) for i in range(1, ai)])\n",
    "    return round(log(d*log(d, 2)**2 + e*d*log(d, 2) + e**2.7, 2))\n",
    "\n",
    "def algebraic_attack_complexity(ai, key_size):\n",
    "    return round(log(sum([comb(key_size, i) for i in range(1, ai)]), 2) * 2.7)\n",
    "\n",
    "print('===FAA===')\n",
    "print(round(fast_algebraic_attack_complexity(13, 2048) + log(4 * comb(18, 2), 2)))\n",
    "print(round(fast_algebraic_attack_complexity(13, 2048) + log(2 * comb(18, 1), 2)))\n",
    "print(round(fast_algebraic_attack_complexity(13, 2048)))\n",
    "\n",
    "print('===AA ===')\n",
    "print(round(algebraic_attack_complexity(13, 2048) + log(4 * comb(18, 2), 2)))\n",
    "print(round(algebraic_attack_complexity(13, 2048) + log(2 * comb(18, 1), 2)))\n",
    "print(round(algebraic_attack_complexity(13, 2048)))"
   ]
  },
  {
   "cell_type": "code",
   "execution_count": 9,
   "id": "bf60ba42",
   "metadata": {},
   "outputs": [
    {
     "data": {
      "text/plain": [
       "0.5"
      ]
     },
     "execution_count": 9,
     "metadata": {},
     "output_type": "execute_result"
    }
   ],
   "source": [
    "# Sagemath cell for high precision\n",
    "RR = RealField(500)\n",
    "\n",
    "def nl_ds(nl_f, n_f, nl_g, n_g):\n",
    "    return (1<<n_g) * nl_f + (1<<n_f) * nl_g - 2 * nl_f * nl_g\n",
    "\n",
    "# DS without leakages\n",
    "\n",
    "nl_f = 2083058\n",
    "n_f = 22\n",
    "n_terms = 14\n",
    "\n",
    "max_walsh = (1<<n_f) - 2*nl_f\n",
    "new_nl_f = (1<<(n_terms*n_f - 1)) - (max_walsh**n_terms) // 2\n",
    "RR(new_nl_f) / RR((1<<(n_terms*n_f)))"
   ]
  },
  {
   "cell_type": "code",
   "execution_count": null,
   "id": "1e5ec18b",
   "metadata": {},
   "outputs": [],
   "source": [
    "# Python cell, the nl of the ds will probably round to 0.5\n",
    "def nl_ds(nl_f, n_f, nl_g, n_g):\n",
    "    return (1<<n_g) * nl_f + (1<<n_f) * nl_g - 2 * nl_f * nl_g\n",
    "\n",
    "# DS without leakages\n",
    "\n",
    "nl_f = 2083058\n",
    "n_f = 22\n",
    "n_terms = 14\n",
    "\n",
    "max_walsh = (1<<n_f) - 2*nl_f\n",
    "new_nl_f = (1<<(n_terms*n_f - 1)) - (max_walsh**n_terms) // 2\n",
    "new_nl_f / (1<<(n_terms*n_f))"
   ]
  }
 ],
 "metadata": {
  "kernelspec": {
   "display_name": "SageMath 9.5",
   "language": "sage",
   "name": "sagemath"
  },
  "language_info": {
   "codemirror_mode": {
    "name": "ipython",
    "version": 3
   },
   "file_extension": ".py",
   "mimetype": "text/x-python",
   "name": "python",
   "nbconvert_exporter": "python",
   "pygments_lexer": "ipython3",
   "version": "3.10.12"
  }
 },
 "nbformat": 4,
 "nbformat_minor": 5
}
