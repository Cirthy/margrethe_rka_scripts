{
 "cells": [
  {
   "cell_type": "code",
   "execution_count": 4,
   "id": "da11b461",
   "metadata": {},
   "outputs": [],
   "source": [
    "from math import comb, log"
   ]
  },
  {
   "cell_type": "code",
   "execution_count": 6,
   "id": "569eee8a",
   "metadata": {},
   "outputs": [
    {
     "name": "stdout",
     "output_type": "stream",
     "text": [
      "===FAA===\n",
      "140\n",
      "136\n",
      "131\n",
      "===AA ===\n",
      "287\n",
      "283\n",
      "278\n"
     ]
    }
   ],
   "source": [
    "def fast_algebraic_attack_complexity(ai, key_size):\n",
    "    e = key_size + comb(key_size, 2)\n",
    "    d = sum([comb(key_size, i) for i in range(1, ai)])\n",
    "    return round(log(d*log(d, 2)**2 + e*d*log(d, 2) + e**2.7, 2))\n",
    "\n",
    "def algebraic_attack_complexity(ai, key_size):\n",
    "    return round(log(sum([comb(key_size, i) for i in range(1, ai)]), 2) * 2.7)\n",
    "\n",
    "print('===FAA===')\n",
    "print(round(fast_algebraic_attack_complexity(13, 2048) + log(4 * comb(18, 2), 2)))\n",
    "print(round(fast_algebraic_attack_complexity(13, 2048) + log(2 * comb(18, 1), 2)))\n",
    "print(round(fast_algebraic_attack_complexity(13, 2048)))\n",
    "\n",
    "print('===AA ===')\n",
    "print(round(algebraic_attack_complexity(13, 2048) + log(4 * comb(18, 2), 2)))\n",
    "print(round(algebraic_attack_complexity(13, 2048) + log(2 * comb(18, 1), 2)))\n",
    "print(round(algebraic_attack_complexity(13, 2048)))"
   ]
  },
  {
   "cell_type": "code",
   "execution_count": 5,
   "id": "e456d33a",
   "metadata": {},
   "outputs": [
    {
     "name": "stdout",
     "output_type": "stream",
     "text": [
      "260740604970814219042361048116300434616479885846683022640093414913694306881803828413643882496\n"
     ]
    },
    {
     "data": {
      "text/plain": [
       "0.499999999999999999999999999999808296068578849465239276178411850377160278824747820449469558968128474057767413112179929387236378653801508175578666208999"
      ]
     },
     "execution_count": 5,
     "metadata": {},
     "output_type": "execute_result"
    }
   ],
   "source": [
    "# Sagemath cell for high precision\n",
    "RR = RealField(500)\n",
    "\n",
    "def nl_ds(nl_f, n_f, nl_g, n_g):\n",
    "    return (1<<n_g) * nl_f + (1<<n_f) * nl_g - 2 * nl_f * nl_g\n",
    "\n",
    "# DS without leakages\n",
    "\n",
    "nl_f = 2083058\n",
    "n_f = 22\n",
    "n_terms = 14\n",
    "\n",
    "max_walsh = (1<<n_f) - 2*nl_f\n",
    "new_nl_f = (1<<(n_terms*n_f - 1)) - (max_walsh**n_terms) // 2\n",
    "print(new_nl_f)\n",
    "RR(new_nl_f) / RR((1<<(n_terms*n_f)))"
   ]
  },
  {
   "cell_type": "code",
   "execution_count": 13,
   "id": "b2d5c2ae",
   "metadata": {},
   "outputs": [
    {
     "data": {
      "text/plain": [
       "2078"
      ]
     },
     "execution_count": 13,
     "metadata": {},
     "output_type": "execute_result"
    }
   ],
   "source": [
    "def linear_correlation_attack_complexity(nl, n, key_size, space_size):\n",
    "    d = key_size * (space_size - 1)\n",
    "    # Minimum security reached for m = d\n",
    "    sec = log(d, 2) * 2.7\n",
    "    sec -= log((nl / space_size**n)**d, 2)\n",
    "    return round(sec)\n",
    "\n",
    "linear_correlation_attack_complexity(new_nl_f, 22*14, 2048, 2)"
   ]
  },
  {
   "cell_type": "code",
   "execution_count": null,
   "id": "206c6984",
   "metadata": {},
   "outputs": [],
   "source": []
  }
 ],
 "metadata": {
  "kernelspec": {
   "display_name": "SageMath 9.5",
   "language": "sage",
   "name": "sagemath"
  },
  "language_info": {
   "codemirror_mode": {
    "name": "ipython",
    "version": 3
   },
   "file_extension": ".py",
   "mimetype": "text/x-python",
   "name": "python",
   "nbconvert_exporter": "python",
   "pygments_lexer": "ipython3",
   "version": "3.10.12"
  }
 },
 "nbformat": 4,
 "nbformat_minor": 5
}
